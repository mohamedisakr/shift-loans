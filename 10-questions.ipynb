{
 "cells": [
  {
   "cell_type": "code",
   "execution_count": 1,
   "id": "dcc4f5e1",
   "metadata": {},
   "outputs": [],
   "source": [
    "from datetime import datetime\n",
    "import pandas as pd\n",
    "import numpy as np\n",
    "import matplotlib.pyplot as plt\n",
    "import seaborn as sns\n",
    "from sklearn.impute import SimpleImputer\n",
    "from sklearn.preprocessing import LabelEncoder, OneHotEncoder, StandardScaler"
   ]
  },
  {
   "cell_type": "code",
   "execution_count": 2,
   "id": "0b018e06",
   "metadata": {},
   "outputs": [],
   "source": [
    "# Load the loan dataset\n",
    "X_train = pd.read_csv(\"raw_data\\X_train.csv\")\n",
    "X_test = pd.read_csv(\"raw_data\\X_test.csv\")"
   ]
  },
  {
   "cell_type": "markdown",
   "id": "be4522f1",
   "metadata": {},
   "source": [
    "#### Question 1"
   ]
  },
  {
   "cell_type": "code",
   "execution_count": 3,
   "id": "9af5277a",
   "metadata": {},
   "outputs": [],
   "source": [
    "# (1) What is the percentage of default (\"bad\") loans for the Connecticut ZIP codes in \n",
    "# the test sample (X_train.csv)*?\n",
    "# 0\n",
    "# 17.5\n",
    "# 0.17\n",
    "# 0.18"
   ]
  },
  {
   "cell_type": "code",
   "execution_count": 4,
   "id": "0222da76",
   "metadata": {},
   "outputs": [
    {
     "data": {
      "text/html": [
       "<div>\n",
       "<style scoped>\n",
       "    .dataframe tbody tr th:only-of-type {\n",
       "        vertical-align: middle;\n",
       "    }\n",
       "\n",
       "    .dataframe tbody tr th {\n",
       "        vertical-align: top;\n",
       "    }\n",
       "\n",
       "    .dataframe thead th {\n",
       "        text-align: right;\n",
       "    }\n",
       "</style>\n",
       "<table border=\"1\" class=\"dataframe\">\n",
       "  <thead>\n",
       "    <tr style=\"text-align: right;\">\n",
       "      <th></th>\n",
       "      <th>addr_state</th>\n",
       "      <th>zip_code</th>\n",
       "    </tr>\n",
       "  </thead>\n",
       "  <tbody>\n",
       "    <tr>\n",
       "      <th>98</th>\n",
       "      <td>CT</td>\n",
       "      <td>064xx</td>\n",
       "    </tr>\n",
       "    <tr>\n",
       "      <th>193</th>\n",
       "      <td>CT</td>\n",
       "      <td>060xx</td>\n",
       "    </tr>\n",
       "    <tr>\n",
       "      <th>218</th>\n",
       "      <td>CT</td>\n",
       "      <td>064xx</td>\n",
       "    </tr>\n",
       "    <tr>\n",
       "      <th>277</th>\n",
       "      <td>CT</td>\n",
       "      <td>067xx</td>\n",
       "    </tr>\n",
       "    <tr>\n",
       "      <th>324</th>\n",
       "      <td>CT</td>\n",
       "      <td>060xx</td>\n",
       "    </tr>\n",
       "    <tr>\n",
       "      <th>...</th>\n",
       "      <td>...</td>\n",
       "      <td>...</td>\n",
       "    </tr>\n",
       "    <tr>\n",
       "      <th>1199284</th>\n",
       "      <td>CT</td>\n",
       "      <td>064xx</td>\n",
       "    </tr>\n",
       "    <tr>\n",
       "      <th>1199364</th>\n",
       "      <td>CT</td>\n",
       "      <td>063xx</td>\n",
       "    </tr>\n",
       "    <tr>\n",
       "      <th>1199390</th>\n",
       "      <td>CT</td>\n",
       "      <td>060xx</td>\n",
       "    </tr>\n",
       "    <tr>\n",
       "      <th>1199451</th>\n",
       "      <td>CT</td>\n",
       "      <td>060xx</td>\n",
       "    </tr>\n",
       "    <tr>\n",
       "      <th>1199818</th>\n",
       "      <td>CT</td>\n",
       "      <td>060xx</td>\n",
       "    </tr>\n",
       "  </tbody>\n",
       "</table>\n",
       "<p>18171 rows × 2 columns</p>\n",
       "</div>"
      ],
      "text/plain": [
       "        addr_state zip_code\n",
       "98              CT    064xx\n",
       "193             CT    060xx\n",
       "218             CT    064xx\n",
       "277             CT    067xx\n",
       "324             CT    060xx\n",
       "...            ...      ...\n",
       "1199284         CT    064xx\n",
       "1199364         CT    063xx\n",
       "1199390         CT    060xx\n",
       "1199451         CT    060xx\n",
       "1199818         CT    060xx\n",
       "\n",
       "[18171 rows x 2 columns]"
      ]
     },
     "execution_count": 4,
     "metadata": {},
     "output_type": "execute_result"
    }
   ],
   "source": [
    "# condition state = connecticut & bad\n",
    "condition = (X_train['addr_state'] == 'CT') & (X_train['zip_code'])\n",
    "connecticut = X_train.loc[condition]\n",
    "connecticut = connecticut.loc[:, ['addr_state', 'zip_code']]\n",
    "connecticut\n",
    "\n",
    "# percentage"
   ]
  },
  {
   "cell_type": "markdown",
   "id": "f3b0e454",
   "metadata": {},
   "source": [
    "#### Question 2"
   ]
  },
  {
   "cell_type": "code",
   "execution_count": 5,
   "id": "7d935587",
   "metadata": {},
   "outputs": [],
   "source": [
    "# (2) Choose the correct statements:* --> MCQ\n",
    "# [.] 1. In the test sample, there are 3 times more loans issued for 3 years than for 5 years\n",
    "# [.] 2. Median interest rate in train (X_train.csv) 16.29%\n",
    "# X 3. The last loan was issued in August 2020 --> Sep-2020\n",
    "# ? 4. Default for the top 10% is higher than the rest ?"
   ]
  },
  {
   "cell_type": "code",
   "execution_count": 6,
   "id": "1b7aa5cf",
   "metadata": {},
   "outputs": [],
   "source": [
    "# extract the month from issue_d\n",
    "X_train['issue_month'] = X_train['issue_d'].apply(lambda x: int(datetime.strptime(x.split('-')[0],'%b').month))"
   ]
  },
  {
   "cell_type": "code",
   "execution_count": 7,
   "id": "68a7de79",
   "metadata": {},
   "outputs": [],
   "source": [
    "# extract the year from issue_d\n",
    "X_train['issue_year'] = X_train['issue_d'].apply(lambda x: int(datetime.strptime(x.split('-')[1],'%Y').year))"
   ]
  },
  {
   "cell_type": "code",
   "execution_count": 14,
   "id": "7f0515c6",
   "metadata": {},
   "outputs": [
    {
     "data": {
      "text/plain": [
       "array([' 36 months', ' 60 months'], dtype=object)"
      ]
     },
     "execution_count": 14,
     "metadata": {},
     "output_type": "execute_result"
    }
   ],
   "source": [
    "# term \n",
    "X_train.term.unique()"
   ]
  },
  {
   "cell_type": "code",
   "execution_count": 9,
   "id": "04b8315a",
   "metadata": {},
   "outputs": [
    {
     "data": {
      "text/plain": [
       " 36 months    903699\n",
       " 60 months    296162\n",
       "Name: term, dtype: int64"
      ]
     },
     "execution_count": 9,
     "metadata": {},
     "output_type": "execute_result"
    }
   ],
   "source": [
    "# loans issued for 3 years (36 months) and for 5 years (60 months)\n",
    "loan_term = X_train['term'].value_counts()\n",
    "# type(loan_term)\n",
    "loan_term\n",
    "# loan_term[1]"
   ]
  },
  {
   "cell_type": "code",
   "execution_count": 10,
   "id": "a5c2e881",
   "metadata": {},
   "outputs": [
    {
     "name": "stdout",
     "output_type": "stream",
     "text": [
      "3.0513671571639844\n"
     ]
    }
   ],
   "source": [
    "# 1. In the test sample, there are 3 times more loans issued for 3 years than for 5 years\n",
    "print(903699/296162)"
   ]
  },
  {
   "cell_type": "code",
   "execution_count": 19,
   "id": "8f4e2e34",
   "metadata": {},
   "outputs": [
    {
     "data": {
      "text/plain": [
       "10.99    28586\n",
       "11.99    27545\n",
       "5.32     27417\n",
       "13.99    25416\n",
       "11.49    19940\n",
       "         ...  \n",
       "15.13        1\n",
       "17.50        1\n",
       "19.16        1\n",
       "17.44        1\n",
       "13.75        1\n",
       "Name: int_rate, Length: 669, dtype: int64"
      ]
     },
     "execution_count": 19,
     "metadata": {},
     "output_type": "execute_result"
    }
   ],
   "source": [
    "# convert first to float\n",
    "X_train['int_rate'] = X_train['int_rate'].str.replace(\" \", \"\").str.replace(\"%\", \"\").astype('float')\n",
    "X_train['int_rate'].value_counts()"
   ]
  },
  {
   "cell_type": "code",
   "execution_count": 21,
   "id": "450375a3",
   "metadata": {},
   "outputs": [
    {
     "data": {
      "text/plain": [
       "12.69"
      ]
     },
     "execution_count": 21,
     "metadata": {},
     "output_type": "execute_result"
    }
   ],
   "source": [
    "# 2. Median interest rate in train (X_train.csv) 16.29%\n",
    "X_train['int_rate'].median()"
   ]
  },
  {
   "cell_type": "code",
   "execution_count": 27,
   "id": "897904e8",
   "metadata": {},
   "outputs": [
    {
     "data": {
      "text/plain": [
       "'Sep-2020'"
      ]
     },
     "execution_count": 27,
     "metadata": {},
     "output_type": "execute_result"
    }
   ],
   "source": [
    "# 3. The last loan was issued in August 2020\n",
    "X_train['issue_d'].max()#, X_train['issue_d'].min()"
   ]
  },
  {
   "cell_type": "markdown",
   "id": "224680aa",
   "metadata": {},
   "source": [
    "#### Question 3"
   ]
  },
  {
   "cell_type": "code",
   "execution_count": 6,
   "id": "f357dd15",
   "metadata": {},
   "outputs": [],
   "source": [
    "# (3) For defaulted loans in train versus non-defaulted, tick the correct answers \n",
    "# (use t-test if necessary):*\n",
    "# 1. The share of problem accounts (i.e. acc_now_delinq>0) is approximately the same (for defaulted and non-defaulted loans)\n",
    "# 2. The lower threshold from the credit bureau (fico_range_low) is not significantly different for bad and good\n",
    "# 3. Bad and good do not differ in the difference between the average amount requested and approved\n",
    "# 4. Shares of missing values ​​in mths_since_recent_bc_dlq for bad and good differ significantly\n",
    "# There is no such number here."
   ]
  },
  {
   "cell_type": "code",
   "execution_count": 26,
   "id": "94c0b53b",
   "metadata": {},
   "outputs": [
    {
     "data": {
      "text/plain": [
       "0.0    1194659\n",
       "1.0       4910\n",
       "2.0        248\n",
       "3.0         36\n",
       "4.0          5\n",
       "5.0          2\n",
       "6.0          1\n",
       "Name: acc_now_delinq, dtype: int64"
      ]
     },
     "execution_count": 26,
     "metadata": {},
     "output_type": "execute_result"
    }
   ],
   "source": [
    "X_train['acc_now_delinq'].value_counts()"
   ]
  },
  {
   "cell_type": "markdown",
   "id": "2f10e9d1",
   "metadata": {},
   "source": [
    "#### Question 4"
   ]
  },
  {
   "cell_type": "code",
   "execution_count": 7,
   "id": "70f999f1",
   "metadata": {},
   "outputs": [],
   "source": [
    "# (4) Check the correct statements:*\n",
    "# 1. It is necessary to carry out income verification (see verification_status values). \n",
    "#     it affects the probability of default\n",
    "# 2. Those who have had their income verified have more income\n",
    "# 3. Those who have had their income verified have less default\n",
    "# 4. Income verification and (loan_amnt - funded_amnt) have a significant (>0.5) \n",
    "#     positive correlation"
   ]
  },
  {
   "cell_type": "markdown",
   "id": "2b4f6aeb",
   "metadata": {},
   "source": [
    "#### Question 5"
   ]
  },
  {
   "cell_type": "code",
   "execution_count": null,
   "id": "f9e3b011",
   "metadata": {},
   "outputs": [],
   "source": [
    "# (5) By how much will the default rate decrease if it is issued only to those who \n",
    "# have at least one mortgage (mort_acc > 0) and an acceptable debt-to-income ratio \n",
    "# (dti < 0.3). What are the correct answers?*\n",
    "# 0.049\n",
    "# 0.5%\n",
    "# 5%\n",
    "# 25%"
   ]
  },
  {
   "cell_type": "markdown",
   "id": "13b9c507",
   "metadata": {},
   "source": [
    "#### Question 6"
   ]
  },
  {
   "cell_type": "code",
   "execution_count": 8,
   "id": "ef395b97",
   "metadata": {},
   "outputs": [],
   "source": [
    "# (6) For further questions, you need to split the training sample into two, so that \n",
    "# you learn on one and check the quality on the other. Use X_train2, X_test2, y_train2, \n",
    "# y_test2 = train_test_split(X_train, y_train, test_size=0.33, random_state=100).\n",
    "\n",
    "# Using sklearn and one hot encoding transformation of categorical features where the \n",
    "# number of categories is less than 15, build a decision tree with default parameters \n",
    "# (if necessary, fill in the gaps with -999) on X_train2.\n",
    "\n",
    "# Correct statements:\n",
    "# *\n",
    "# 1. The first feature in the tree changes when you set max_depth=2\n",
    "# 2. Second feature = funded_amnt in the tree with max_depth=2\n",
    "# 3. Tree with unlimited max_depth and random_state=0 gives quality on y_test2 0.28 Gini\n",
    "# 4. Tree with limited max_depth = 10 and random_state=0 gives quality on y_train2 0.285 Gini"
   ]
  },
  {
   "cell_type": "markdown",
   "id": "c6637c8e",
   "metadata": {},
   "source": [
    "#### Question 7"
   ]
  },
  {
   "cell_type": "code",
   "execution_count": null,
   "id": "bd72f820",
   "metadata": {},
   "outputs": [],
   "source": [
    "# (7) Plot a random forest from sklearn on the features prepared for the tree (X_train2). \n",
    "# Use Gini (and y_test2) as a measure of quality. \n",
    "\n",
    "# Choose the correct answers:*\n",
    "# 1. Tree with default max_depth and random_state=0 gives better quality than forest with \n",
    "#     random_state=10 by 0.002\n",
    "# 2. A forest of three trees is better than a forest at default values\n",
    "# 3. Forest at max_depth=10 and other default values ​​does not predict anything\n",
    "# 4. Forest at max_depth=10 and min_samples_leaf=100 works best"
   ]
  },
  {
   "cell_type": "markdown",
   "id": "74792132",
   "metadata": {},
   "source": [
    "#### Question 8"
   ]
  },
  {
   "cell_type": "code",
   "execution_count": null,
   "id": "368b8dd7",
   "metadata": {},
   "outputs": [],
   "source": [
    "# (8) What feature should be made from emp_length and another categorical feature \n",
    "# with 15 or fewer categories to have the highest default rate?\n",
    "# Consider that we make a decision on at least 100 observations.*\n",
    "# if emp_length=='8 years' & home_ownership=='RENT'\n",
    "# if emp_length=='4 years' & purpose=='small_business'\n",
    "# if emp_length=='1 year' & term=='60 months'\n",
    "# if emp_length=='3 years' & verification_status=='Verified'"
   ]
  },
  {
   "cell_type": "markdown",
   "id": "5ade576d",
   "metadata": {},
   "source": [
    "#### Question 9"
   ]
  },
  {
   "cell_type": "code",
   "execution_count": null,
   "id": "f3081495",
   "metadata": {},
   "outputs": [],
   "source": [
    "# (9) In further questions, we will use the original X_train, y_train. Let's divide them into \n",
    "# training and test sets: X_train2, X_test2, y_train2, y_test2 = \n",
    "#     train_test_split(X_train, y_train, test_size=0.33, random_state=100). \n",
    "\n",
    "# Choose the correct answers:*\n",
    "# 1. catboost with iterations=80 and other default parameters, \n",
    "#     works worse than a forest, but better than trees, if we compare models from previous questions\n",
    "# 2. catboost with iterations=80 and other default parameters is better than lightgbm with \n",
    "#     default parameters\n",
    "# 3. xgboost with parameters n_estimators=250, learning_rate=0.10, colsample_bytree=0.70, \n",
    "#     max_depth=3 is better than lightgbm with default parameters\n",
    "# 4. xgboost with n_estimators=250, learning_rate=0.10, colsample_bytree=0.70, max_depth=3 \n",
    "#     is better than catboost with iterations=80 and other default parameters"
   ]
  },
  {
   "cell_type": "markdown",
   "id": "5fe81dbd",
   "metadata": {},
   "source": [
    "#### Question 10"
   ]
  },
  {
   "cell_type": "code",
   "execution_count": null,
   "id": "f7abe953",
   "metadata": {},
   "outputs": [],
   "source": [
    "# (10) Using the data for catboost from the previous question, compare a model trained \n",
    "# with default parameters and iterations=80 on all data and models trained on a particular \n",
    "# year's data.\n",
    "\n",
    "# Do I need to build a separate catboost model for each year? Mark the correct answer.*\n",
    "# Yes, because for a particular year, always more accurate predictions\n",
    "# No, because a model built on all the data always beats a model built only on a part\n",
    "# No, because the model for a specific year always predicts a specific year worse than \n",
    "#   the general model\n",
    "# Depends, because some years are special and you need to take this into account when \n",
    "#   choosing a model. In our data, there are about 1 out of 5 such years."
   ]
  }
 ],
 "metadata": {
  "kernelspec": {
   "display_name": "Python 3 (ipykernel)",
   "language": "python",
   "name": "python3"
  },
  "language_info": {
   "codemirror_mode": {
    "name": "ipython",
    "version": 3
   },
   "file_extension": ".py",
   "mimetype": "text/x-python",
   "name": "python",
   "nbconvert_exporter": "python",
   "pygments_lexer": "ipython3",
   "version": "3.9.12"
  }
 },
 "nbformat": 4,
 "nbformat_minor": 5
}
